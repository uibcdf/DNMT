{
 "cells": [
  {
   "cell_type": "code",
   "execution_count": 1,
   "metadata": {},
   "outputs": [],
   "source": [
    "import numpy as np\n",
    "from simtk import unit as unit\n",
    "import networkx as nx\n",
    "import matplotlib.pyplot as plt"
   ]
  },
  {
   "cell_type": "code",
   "execution_count": 2,
   "metadata": {},
   "outputs": [],
   "source": [
    "def Hyd_file_parser(filename):\n",
    "    init=False\n",
    "    contacts_traj = []\n",
    "    contacts_dict = {}\n",
    "    n_contacts = 0\n",
    "    with open(filename, 'r') as fff:\n",
    "        for line in fff.readlines():\n",
    "            if line.startswith('==='):\n",
    "                if init:\n",
    "                    contacts_traj.append(contacts_frame)\n",
    "                contacts_frame = []\n",
    "                init=True\n",
    "            if line.startswith('  to'):\n",
    "                words = line.split()\n",
    "                resid = words[2]+'-'+words[4]+'/'+words[3]\n",
    "                n_interactions = int(words[6])\n",
    "                strength = float(words[-1])\n",
    "                contact_label = 'GBC-985/A||'+resid\n",
    "                try:\n",
    "                    contact_index = contacts_dict[contact_label]\n",
    "                except:\n",
    "                    contact_index = n_contacts\n",
    "                    contacts_dict[contact_label] = contact_index\n",
    "                    n_contacts += 1\n",
    "                contacts_frame.append([contact_index, n_interactions, strength])\n",
    "    return contacts_traj, contacts_dict"
   ]
  },
  {
   "cell_type": "code",
   "execution_count": 3,
   "metadata": {},
   "outputs": [],
   "source": [
    "def HB_file_parser(filename):\n",
    "    init=False\n",
    "    contacts_traj = []\n",
    "    contacts_dict = {}\n",
    "    n_contacts = 0\n",
    "    with open(filename, 'r') as fff:\n",
    "        for line in fff.readlines():\n",
    "            if line.startswith('==='):\n",
    "                if init:\n",
    "                    contacts_traj.append(contacts_frame)\n",
    "                contacts_frame = []\n",
    "                init=True\n",
    "            if line.startswith('Atom'):\n",
    "                words = line.split()\n",
    "                donor = words[1]+'/'+words[2]+'-'+words[3]+'/'+words[4]\n",
    "                acceptor = words[9]+'/'+words[10]+'-'+words[11]+'/'+words[12][0]\n",
    "                contact_label = donor+'||'+acceptor\n",
    "                try:\n",
    "                    contact_index = contacts_dict[contact_label]\n",
    "                except:\n",
    "                    contact_index = n_contacts\n",
    "                    contacts_dict[contact_label] = contact_index\n",
    "                    n_contacts += 1\n",
    "                distance = float(words[17])*unit.angstroms\n",
    "                energy = float(words[22])*unit.kilojoules_per_mole\n",
    "                contacts_frame.append([contact_index, distance, energy])\n",
    "    return contacts_traj, contacts_dict"
   ]
  },
  {
   "cell_type": "markdown",
   "metadata": {},
   "source": [
    "## With out thresholds"
   ]
  },
  {
   "cell_type": "code",
   "execution_count": 4,
   "metadata": {},
   "outputs": [],
   "source": [
    "file_HB=\"contactos/HB_pose1.txt\"\n",
    "file_Hyd=\"contactos/Hyd_pose1.txt\"\n",
    "\n",
    "traj_HB, dict_HB = HB_file_parser(file_HB)\n",
    "traj_Hyd, dict_Hyd = Hyd_file_parser(file_Hyd)\n",
    "\n",
    "mss_traj = []"
   ]
  },
  {
   "cell_type": "code",
   "execution_count": 5,
   "metadata": {},
   "outputs": [],
   "source": [
    "for frame_HB, frame_Hyd in zip(traj_HB, traj_Hyd):\n",
    "    contact_indices_HB = np.sort([ii[0] for ii in frame_HB])\n",
    "    contact_indices_Hyd = np.sort([ii[0] for ii in frame_Hyd])\n",
    "    mss_HB = ','.join([str(ii) for ii in contact_indices_HB])\n",
    "    mss_Hyd = ','.join([str(ii) for ii in contact_indices_Hyd])\n",
    "    mss = mss_HB+'-'+mss_Hyd\n",
    "    mss_traj.append(mss)"
   ]
  },
  {
   "cell_type": "code",
   "execution_count": 8,
   "metadata": {},
   "outputs": [],
   "source": [
    "fff = open('dict_HB_pose1.txt','w')\n",
    "for key, value in dict_HB.items():\n",
    "    fff.write(\"{}\\t{}\\n\".format(value,key))\n",
    "fff.close()\n",
    "\n",
    "fff = open('dict_Hyd_pose1.txt','w')\n",
    "for key, value in dict_HB.items():\n",
    "    fff.write(\"{}\\t{}\\n\".format(value,key))\n",
    "fff.close()\n",
    "\n",
    "fff = open('traj_pose1.txt','w')\n",
    "for mss in mss_traj:\n",
    "    fff.write(\"{}\\n\".format(mss))\n",
    "fff.close()"
   ]
  },
  {
   "cell_type": "code",
   "execution_count": null,
   "metadata": {},
   "outputs": [],
   "source": []
  }
 ],
 "metadata": {
  "kernelspec": {
   "display_name": "Python 3",
   "language": "python",
   "name": "python3"
  },
  "language_info": {
   "codemirror_mode": {
    "name": "ipython",
    "version": 3
   },
   "file_extension": ".py",
   "mimetype": "text/x-python",
   "name": "python",
   "nbconvert_exporter": "python",
   "pygments_lexer": "ipython3",
   "version": "3.7.8"
  }
 },
 "nbformat": 4,
 "nbformat_minor": 4
}
